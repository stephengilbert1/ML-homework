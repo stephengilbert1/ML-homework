{
 "cells": [
  {
   "cell_type": "code",
   "execution_count": 25,
   "id": "2f68cba7-c3f4-4c2a-acd4-e731999e7877",
   "metadata": {},
   "outputs": [
    {
     "name": "stdout",
     "output_type": "stream",
     "text": [
      "0.5187709081074016\n"
     ]
    }
   ],
   "source": [
    "import numpy as np\n",
    "import pandas as pd\n",
    "df = pd.read_csv('https://raw.githubusercontent.com/alexeygrigorev/datasets/master/car_fuel_efficiency.csv')\n",
    "# df.head()\n",
    "\n",
    "\n",
    "asia = df[df['origin'] == 'Asia']\n",
    "asia_weight_year = asia[['vehicle_weight', 'model_year']]\n",
    "first_seven = asia_weight_year.head(7)\n",
    "# print(first_seven)\n",
    "\n",
    "# Access the underlying NumPy array using .values\n",
    "X = first_seven.values\n",
    "# print(\"\\nUsing .values:\")\n",
    "# print(X)\n",
    "# print(\"Shape:\", X.shape)\n",
    "\n",
    "X_transpose = X.T\n",
    "XTX =  np.dot(X_transpose, X)\n",
    "# print(XTX)\n",
    "# print(\"Shape:\", XTX.shape)\n",
    "\n",
    "inv_XTX = np.linalg.inv(XTX)\n",
    "# print(inv_XTX)\n",
    "# print(\"Shape:\", inv_XTX.shape)\n",
    "\n",
    "y = [1100, 1300, 800, 900, 1000, 1100, 1200]\n",
    "\n",
    "w = np.dot(inv_XTX, X_transpose) * y\n",
    "w_sum = np.sum(w)\n",
    "print(w_sum)"
   ]
  },
  {
   "cell_type": "code",
   "execution_count": null,
   "id": "6afbb2f6-dee6-435e-b687-8c666b8addb6",
   "metadata": {},
   "outputs": [],
   "source": []
  }
 ],
 "metadata": {
  "kernelspec": {
   "display_name": "Python 3",
   "language": "python",
   "name": "python3"
  },
  "language_info": {
   "codemirror_mode": {
    "name": "ipython",
    "version": 3
   },
   "file_extension": ".py",
   "mimetype": "text/x-python",
   "name": "python",
   "nbconvert_exporter": "python",
   "pygments_lexer": "ipython3",
   "version": "3.12.1"
  }
 },
 "nbformat": 4,
 "nbformat_minor": 5
}
