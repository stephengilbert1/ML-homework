{
 "cells": [
  {
   "cell_type": "code",
   "execution_count": 34,
   "id": "cff42bb1",
   "metadata": {},
   "outputs": [
    {
     "name": "stdout",
     "output_type": "stream",
     "text": [
      "engine_displacement\n",
      "[170 130 220 210 190 240]\n",
      "36\n",
      "\n",
      "horsepower\n",
      "[159.  97.  78.  nan 140. 127.]\n",
      "192\n",
      "\n",
      "vehicle_weight\n",
      "[3413.43375861 3149.66493422 3079.03899737 2542.39240183 3460.87098999\n",
      " 2484.88398604]\n",
      "9704\n",
      "\n",
      "model_year\n",
      "[2003 2007 2018 2009 2008 2012]\n",
      "24\n",
      "\n",
      "fuel_efficiency_mpg\n",
      "[13.23172891 13.68821744 14.246341   16.9127356  12.48836912 17.27181837]\n",
      "9704\n",
      "\n"
     ]
    },
    {
     "data": {
      "text/plain": [
       "engine_displacement      0\n",
       "horsepower             708\n",
       "vehicle_weight           0\n",
       "model_year               0\n",
       "fuel_efficiency_mpg      0\n",
       "dtype: int64"
      ]
     },
     "execution_count": 34,
     "metadata": {},
     "output_type": "execute_result"
    },
    {
     "data": {
      "image/png": "[encoded data removed]",
      "text/plain": [
       "<Figure size 640x480 with 1 Axes>"
      ]
     },
     "metadata": {},
     "output_type": "display_data"
    }
   ],
   "source": [
    "import numpy as np\n",
    "import pandas as pd\n",
    "\n",
    "import matplotlib.pyplot as plt\n",
    "import seaborn as sns\n",
    "\n",
    "\n",
    "\n",
    "df = pd.read_csv('car_fuel_efficiency.csv')\n",
    "\n",
    "\n",
    "df.columns = df.columns.str.lower().str.replace(' ', '_')\n",
    "\n",
    "strings = list(df.dtypes[df.dtypes == 'object'].index)\n",
    "\n",
    "\n",
    "for col in strings:\n",
    "    df[col] = df[col].str.lower().str.replace(' ', '_')\n",
    "\n",
    "\n",
    "df = df[['engine_displacement',\n",
    "'horsepower',\n",
    "'vehicle_weight',\n",
    "'model_year',\n",
    "'fuel_efficiency_mpg']]\n",
    "\n",
    "df.head()\n",
    "df.dtypes\n",
    "\n",
    "for col in df.columns:\n",
    "    print(col)\n",
    "    print(df[col].unique()[:6])\n",
    "    print(df[col].nunique())\n",
    "    print()\n",
    "\n",
    "%matplotlib inline\n",
    "sns.histplot(df.fuel_efficiency_mpg, bins=100)\n",
    "\n",
    "df.isnull().sum()\n",
    "\n",
    "\n",
    "\n",
    "\n",
    "\n"
   ]
  },
  {
   "cell_type": "code",
   "execution_count": 35,
   "id": "cfd5a493",
   "metadata": {},
   "outputs": [
    {
     "name": "stdout",
     "output_type": "stream",
     "text": [
      "The median of 'horsepower' is: 149.0\n"
     ]
    }
   ],
   "source": [
    "median_value = df['horsepower'].median()\n",
    "print(f\"The median of 'horsepower' is: {median_value}\")"
   ]
  },
  {
   "cell_type": "code",
   "execution_count": 36,
   "id": "4580bc40",
   "metadata": {},
   "outputs": [
    {
     "data": {
      "text/plain": [
       "engine_displacement     240.000000\n",
       "horsepower              159.000000\n",
       "vehicle_weight         2916.987921\n",
       "model_year             2001.000000\n",
       "Name: 10, dtype: float64"
      ]
     },
     "execution_count": 36,
     "metadata": {},
     "output_type": "execute_result"
    }
   ],
   "source": [
    "n = len(df)\n",
    "\n",
    "n_val = int(n * 0.2)\n",
    "n_test = int(n * 0.2)\n",
    "n_train = n - n_val - n_test\n",
    "\n",
    "n\n",
    "\n",
    "n_val, n_test, n_train\n",
    "\n",
    "df.iloc[[10, 0, 3, 5]]\n",
    "\n",
    "df_val = df.iloc[n_train:n_train+n_val]\n",
    "df_test = df.iloc[n_train+n_val:]\n",
    "\n",
    "idx = np.arange(n)\n",
    "\n",
    "df_zero = df\n",
    "df_mean = df\n",
    "\n",
    "df_zero.horsepower = df.horsepower.fillna(0)\n",
    "df_mean.horsepower = df.horsepower.fillna(df.iloc[idx[:n_train]].horsepower.mean())\n",
    "\n",
    "\n",
    "np.random.seed(42)\n",
    "np.random.shuffle(idx)\n",
    "df_train_zero = df_zero.iloc[idx[:n_train]]\n",
    "df_train_mean = df_mean.iloc[idx[:n_train]]\n",
    "df_val = df.iloc[idx[n_train:n_train+n_val]]\n",
    "df_test = df.iloc[idx[n_train+n_val:]]\n",
    "df_train_zero.head()\n",
    "df_train_mean.head()\n",
    "\n",
    "len(df_train_zero), len(df_train_mean), len(df_val), len(df_test)\n",
    "\n",
    "df_train_zero = df_train_zero.reset_index(drop=True)\n",
    "df_train_mean = df_train_mean.reset_index(drop=True)\n",
    "df_val = df_val.reset_index(drop=True)\n",
    "df_test = df_test.reset_index(drop=True)\n",
    "\n",
    "y_train_zero = np.log1p(df_train_zero.fuel_efficiency_mpg.values)\n",
    "y_train_mean = np.log1p(df_train_mean.fuel_efficiency_mpg.values)\n",
    "y_val = np.log1p(df_val.fuel_efficiency_mpg.values)\n",
    "y_test = np.log1p(df_test.fuel_efficiency_mpg.values)\n",
    "\n",
    "del df_train_zero['fuel_efficiency_mpg']\n",
    "del df_train_mean['fuel_efficiency_mpg']\n",
    "del df_val['fuel_efficiency_mpg']\n",
    "del df_test['fuel_efficiency_mpg']\n",
    "\n",
    "len(y_train_zero), len(y_train_mean)\n",
    "\n",
    "df_train_zero.iloc[10]"
   ]
  }
 ],
 "metadata": {
  "kernelspec": {
   "display_name": "Python 3",
   "language": "python",
   "name": "python3"
  },
  "language_info": {
   "codemirror_mode": {
    "name": "ipython",
    "version": 3
   },
   "file_extension": ".py",
   "mimetype": "text/x-python",
   "name": "python",
   "nbconvert_exporter": "python",
   "pygments_lexer": "ipython3",
   "version": "3.12.1"
  }
 },
 "nbformat": 4,
 "nbformat_minor": 5
}
