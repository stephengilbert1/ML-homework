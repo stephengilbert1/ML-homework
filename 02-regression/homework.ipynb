{
 "cells": [
  {
   "cell_type": "code",
   "execution_count": null,
   "id": "cff42bb1",
   "metadata": {},
   "outputs": [],
   "source": [
    "import numpy as np\n",
    "import pandas as pd\n",
    "\n",
    "import matplotlib.pyplot as plt\n",
    "import seaborn as sns\n",
    "\n",
    "\n",
    "\n",
    "df = pd.read_csv('car_fuel_efficiency.csv')\n",
    "\n",
    "\n",
    "df.columns = df.columns.str.lower().str.replace(' ', '_')\n",
    "\n",
    "strings = list(df.dtypes[df.dtypes == 'object'].index)\n",
    "\n",
    "\n",
    "for col in strings:\n",
    "    df[col] = df[col].str.lower().str.replace(' ', '_')\n",
    "\n",
    "\n",
    "df = df[['engine_displacement',\n",
    "'horsepower',\n",
    "'vehicle_weight',\n",
    "'model_year',\n",
    "'fuel_efficiency_mpg']]\n",
    "\n",
    "df.head()\n",
    "df.dtypes\n",
    "\n",
    "for col in df.columns:\n",
    "    print(col)\n",
    "    print(df[col].unique()[:6])\n",
    "    print(df[col].nunique())\n",
    "    print()\n",
    "\n",
    "%matplotlib inline\n",
    "sns.histplot(df.fuel_efficiency_mpg, bins=100)\n",
    "\n",
    "df.isnull().sum()\n",
    "\n",
    "\n",
    "\n",
    "\n",
    "\n"
   ]
  },
  {
   "cell_type": "code",
   "execution_count": null,
   "id": "cfd5a493",
   "metadata": {},
   "outputs": [
    {
     "name": "stdout",
     "output_type": "stream",
     "text": [
      "The median of 'horsepower' is: 149.0\n"
     ]
    }
   ],
   "source": [
    "median_value = df['horsepower'].median()\n",
    "print(f\"The median of 'horsepower' is: {median_value}\")"
   ]
  },
  {
   "cell_type": "code",
   "execution_count": null,
   "id": "4580bc40",
   "metadata": {},
   "outputs": [
    {
     "data": {
      "text/plain": [
       "np.float64(4.4837987921)"
      ]
     },
     "execution_count": 95,
     "metadata": {},
     "output_type": "execute_result"
    }
   ],
   "source": [
    "n = len(df)\n",
    "\n",
    "n_val = int(n * 0.2)\n",
    "n_test = int(n * 0.2)\n",
    "n_train = n - n_val - n_test\n",
    "\n",
    "n\n",
    "\n",
    "n_val, n_test, n_train\n",
    "\n",
    "df.iloc[[10, 0, 3, 5]]\n",
    "\n",
    "df_val = df.iloc[n_train:n_train+n_val]\n",
    "df_test = df.iloc[n_train+n_val:]\n",
    "\n",
    "idx = np.arange(n)\n",
    "\n",
    "df_zero = df\n",
    "df_mean = df\n",
    "\n",
    "df_zero.horsepower = df.horsepower.fillna(0)\n",
    "df_mean.horsepower = df.horsepower.fillna(df.iloc[idx[:n_train]].horsepower.mean())\n",
    "\n",
    "\n",
    "np.random.seed(42)\n",
    "np.random.shuffle(idx)\n",
    "\n",
    "df_train_zero = df_zero.iloc[idx[:n_train]]\n",
    "df_train_mean = df_mean.iloc[idx[:n_train]]\n",
    "df_val = df.iloc[idx[n_train:n_train+n_val]]\n",
    "df_test = df.iloc[idx[n_train+n_val:]]\n",
    "df_train_zero.head()\n",
    "df_train_mean.head()\n",
    "\n",
    "len(df_train_zero), len(df_train_mean), len(df_val), len(df_test)\n",
    "\n",
    "df_train_zero = df_train_zero.reset_index(drop=True)\n",
    "df_train_mean = df_train_mean.reset_index(drop=True)\n",
    "df_val = df_val.reset_index(drop=True)\n",
    "df_test = df_test.reset_index(drop=True)\n",
    "\n",
    "y_train_zero = np.log1p(df_train_zero.fuel_efficiency_mpg.values)\n",
    "y_train_mean = np.log1p(df_train_mean.fuel_efficiency_mpg.values)\n",
    "y_val = np.log1p(df_val.fuel_efficiency_mpg.values)\n",
    "y_test = np.log1p(df_test.fuel_efficiency_mpg.values)\n",
    "\n",
    "del df_train_zero['fuel_efficiency_mpg']\n",
    "del df_train_mean['fuel_efficiency_mpg']\n",
    "del df_val['fuel_efficiency_mpg']\n",
    "del df_test['fuel_efficiency_mpg']\n",
    "\n",
    "len(y_train_zero), len(y_train_mean)\n",
    "\n",
    "df_train_zero.iloc[10]\n",
    "\n",
    "xi = [240, 159, 2916.987921, 2021]\n",
    "w0 = 0\n",
    "w = [0.01, 0.01, 0.0001, 0.0001]\n",
    "\n",
    "def linear_regression(xi):\n",
    "    n = len(xi)\n",
    "\n",
    "    pred = w0\n",
    "\n",
    "    for j in range(n):\n",
    "        pred = pred + w[j] * xi[j]\n",
    "\n",
    "    return pred\n",
    "\n",
    "linear_regression(xi)\n",
    "\n",
    "np.expm1(4.4837987921)\n",
    "\n",
    "np.log1p(87.57049530949243)\n",
    "\n",
    "\n",
    "\n"
   ]
  },
  {
   "cell_type": "code",
   "execution_count": null,
   "id": "18177ba6",
   "metadata": {},
   "outputs": [
    {
     "data": {
      "text/plain": [
       "array([4.3036, 4.9826, 4.1438])"
      ]
     },
     "execution_count": 96,
     "metadata": {},
     "output_type": "execute_result"
    }
   ],
   "source": [
    "#Vector form\n",
    "\n",
    "def dot(xi, w):\n",
    "    n = len(xi)\n",
    "    \n",
    "    res = 0.0\n",
    "    \n",
    "    for j in range(n):\n",
    "        res = res + xi[j] * w[j]\n",
    "    \n",
    "    return res\n",
    "\n",
    "def linear_regression(xi):\n",
    "    return w0 + dot(xi, w)\n",
    "\n",
    "w_new = [w0] + w\n",
    "\n",
    "w_new\n",
    "\n",
    "def linear_regression(xi):\n",
    "    xi = [1] + xi\n",
    "    return dot(xi, w_new)\n",
    "\n",
    "linear_regression(xi)\n",
    "\n",
    "x1  = [1, 250, 139, 2116, 2020]\n",
    "x2  = [1, 270, 179, 2916, 2010]\n",
    "x10 = [1, 210, 159, 2516, 2022]\n",
    "\n",
    "X = [x1, x2, x10]\n",
    "X = np.array(X)\n",
    "X\n",
    "\n",
    "def linear_regression(X):\n",
    "    return X.dot(w_new)\n",
    "\n",
    "linear_regression(X)\n"
   ]
  },
  {
   "cell_type": "code",
   "execution_count": null,
   "id": "534326bb",
   "metadata": {},
   "outputs": [
    {
     "data": {
      "text/plain": [
       "array([[ 250,  135, 2126, 2020],\n",
       "       [ 270,  174, 2936, 2010],\n",
       "       [ 210,  150, 2546, 2022],\n",
       "       [ 220,  133, 2156, 2020],\n",
       "       [ 230,  179, 2966, 2012],\n",
       "       [ 240,  159, 2576, 2022],\n",
       "       [ 250,  137, 2186, 2023],\n",
       "       [ 260,  172, 2996, 2010],\n",
       "       [ 280,  151, 2506, 2022]])"
      ]
     },
     "execution_count": 97,
     "metadata": {},
     "output_type": "execute_result"
    }
   ],
   "source": [
    "#Train linear regression\n",
    "\n",
    "def train_linear_regression(X, y):\n",
    "    pass\n",
    "\n",
    "X = [\n",
    "    [250, 135, 2126, 2020],\n",
    "    [270, 174, 2936, 2010],\n",
    "    [210, 150, 2546, 2022],\n",
    "    [220, 133, 2156, 2020],\n",
    "    [230, 179, 2966, 2012],\n",
    "    [240, 159, 2576, 2022],\n",
    "    [250, 137, 2186, 2023],\n",
    "    [260, 172, 2996, 2010],\n",
    "    [280, 151, 2506, 2022]\n",
    "]\n",
    "\n",
    "X = np.array(X)\n",
    "X"
   ]
  },
  {
   "cell_type": "code",
   "execution_count": null,
   "id": "00c44794",
   "metadata": {},
   "outputs": [],
   "source": [
    "# ones = np.ones(X.shape[0])\n",
    "# ones\n",
    "# X = np.column_stack([ones, X])\n",
    "# X\n"
   ]
  },
  {
   "cell_type": "code",
   "execution_count": null,
   "id": "82204989",
   "metadata": {},
   "outputs": [
    {
     "data": {
      "text/plain": [
       "(np.float64(-0.016661777095872805),\n",
       " array([ 0.90016006, -0.04375928, -0.00562528]))"
      ]
     },
     "execution_count": 99,
     "metadata": {},
     "output_type": "execute_result"
    }
   ],
   "source": [
    "y = [11, 12, 10, 9, 8, 29, 8, 9, 10]\n",
    "\n",
    "XTX = X.T.dot(X)\n",
    "XTX_inv = np.linalg.inv(XTX)\n",
    "w_full = XTX_inv.dot(X.T).dot(y)\n",
    "w0 = w_full[0]\n",
    "w = w_full[1:]\n",
    "\n",
    "w0,w\n"
   ]
  },
  {
   "cell_type": "code",
   "execution_count": null,
   "id": "1a67c3aa",
   "metadata": {},
   "outputs": [
    {
     "data": {
      "text/plain": [
       "(np.float64(-2005.3921283646032),\n",
       " array([ 0.00458104,  0.90435302, -0.03168192,  0.96998229]))"
      ]
     },
     "execution_count": 100,
     "metadata": {},
     "output_type": "execute_result"
    }
   ],
   "source": [
    "def train_linear_regression(X, y):\n",
    "    ones = np.ones(X.shape[0])\n",
    "    X = np.column_stack([ones, X])\n",
    "\n",
    "    XTX = X.T.dot(X)\n",
    "    XTX_inv = np.linalg.inv(XTX)\n",
    "    w_full = XTX_inv.dot(X.T).dot(y)\n",
    "    \n",
    "    return w_full[0], w_full[1:]\n",
    "\n",
    "train_linear_regression(X, y)"
   ]
  }
 ],
 "metadata": {
  "kernelspec": {
   "display_name": "Python 3",
   "language": "python",
   "name": "python3"
  },
  "language_info": {
   "codemirror_mode": {
    "name": "ipython",
    "version": 3
   },
   "file_extension": ".py",
   "mimetype": "text/x-python",
   "name": "python",
   "nbconvert_exporter": "python",
   "pygments_lexer": "ipython3",
   "version": "3.12.1"
  }
 },
 "nbformat": 4,
 "nbformat_minor": 5
}
